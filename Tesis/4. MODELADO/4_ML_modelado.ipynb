{
 "cells": [
  {
   "cell_type": "code",
   "execution_count": 37,
   "metadata": {},
   "outputs": [],
   "source": [
    "import pandas as pd\n",
    "import numpy as np\n",
    "import matplotlib.pyplot as plt\n",
    "import seaborn as sns\n",
    "#%matplotlib inline\n",
    "import warnings\n",
    "from sklearn.model_selection import train_test_split\n",
    "import category_encoders as ce\n",
    "from sklearn.ensemble import *\n",
    "from sklearn.metrics import accuracy_score\n",
    "import joblib\n",
    "import pyodbc\n",
    "import os\n",
    "from dotenv import load_dotenv\n",
    "from sqlalchemy import create_engine\n",
    "from sklearn.metrics import precision_score,recall_score,f1_score,confusion_matrix\n",
    "from sklearn.tree import DecisionTreeClassifier\n",
    "from sklearn.naive_bayes import GaussianNB\n",
    "from sklearn.linear_model import LogisticRegression\n",
    "from sklearn.neighbors import KNeighborsClassifier\n",
    "from sklearn.svm import SVC\n",
    "from sklearn.preprocessing import MinMaxScaler\n",
    "from imblearn.over_sampling import SMOTE\n",
    "from sklearn.model_selection import train_test_split\n",
    "from sklearn.ensemble import RandomForestClassifier\n",
    "from sklearn.metrics import classification_report\n",
    "from sklearn.metrics import roc_auc_score,roc_curve\n",
    "\n",
    "#pd.set_option('display.max_rows',None)\n"
   ]
  },
  {
   "cell_type": "code",
   "execution_count": 2,
   "metadata": {},
   "outputs": [],
   "source": [
    "load_dotenv()\n",
    "#Obtener credenciales\n",
    "db_server=os.getenv(\"DB_SERVER\")\n",
    "db_name=os.getenv(\"DB_NAME\")\n",
    "db_schema=os.getenv(\"DB_SCHEMA\")\n",
    "db_tabla_entrenamiento=os.getenv(\"DB_TABLA_ENTRENAMIENTO\")\n",
    "db_tabla_destino=os.getenv(\"DB_TABLA_DESTINO\")\n",
    "db_tabla_cl=os.getenv(\"DB_TABLA_CL\")\n",
    "db_tabla_predict=os.getenv(\"DB_TABLA_PREDICT\")\n"
   ]
  },
  {
   "cell_type": "code",
   "execution_count": 16,
   "metadata": {},
   "outputs": [
    {
     "name": "stderr",
     "output_type": "stream",
     "text": [
      "C:\\Users\\xvillanuevam\\AppData\\Local\\Temp\\ipykernel_12780\\1304152601.py:5: UserWarning: pandas only supports SQLAlchemy connectable (engine/connection) or database string URI or sqlite3 DBAPI2 connection. Other DBAPI2 objects are not tested. Please consider using SQLAlchemy.\n",
      "  df_sql_resultados = pd.read_sql(consulta_sql, connection)\n"
     ]
    }
   ],
   "source": [
    "\n",
    "try:  \n",
    "    connection = pyodbc.connect(f'DRIVER={{SQL Server}};SERVER={db_server};DATABASE={db_name};trusted_connection=yes')\n",
    "\n",
    "    consulta_sql = f\"\"\"  select * from {db_name}.{db_schema}.{db_tabla_entrenamiento}  \"\"\"\n",
    "    df_sql_resultados = pd.read_sql(consulta_sql, connection)\n",
    "        \n",
    "except pyodbc.Error as e:\n",
    "    print(\"OCURRIO UN ERROR:\", e)\n",
    "except Exception as e1:\n",
    "    print(\"ERROR INESPERRADO:\", e1)\n",
    "finally:\n",
    "    connection.close()\n"
   ]
  },
  {
   "cell_type": "code",
   "execution_count": 3,
   "metadata": {},
   "outputs": [],
   "source": [
    "df_sql_resultados=pd.read_pickle('C:/Users/xvillanuevam/Desktop/TRASPASO PRACTICANTE/QUERYS VARIOS/ML/dataset_datos_preparados.pkl')"
   ]
  },
  {
   "cell_type": "code",
   "execution_count": 4,
   "metadata": {},
   "outputs": [
    {
     "data": {
      "text/html": [
       "<div>\n",
       "<style scoped>\n",
       "    .dataframe tbody tr th:only-of-type {\n",
       "        vertical-align: middle;\n",
       "    }\n",
       "\n",
       "    .dataframe tbody tr th {\n",
       "        vertical-align: top;\n",
       "    }\n",
       "\n",
       "    .dataframe thead th {\n",
       "        text-align: right;\n",
       "    }\n",
       "</style>\n",
       "<table border=\"1\" class=\"dataframe\">\n",
       "  <thead>\n",
       "    <tr style=\"text-align: right;\">\n",
       "      <th></th>\n",
       "      <th>LLAVE</th>\n",
       "      <th>LINEACREDITO</th>\n",
       "      <th>EDAD</th>\n",
       "      <th>DEPARTAMENTO_RENIEC</th>\n",
       "      <th>SITUACIONLABORAL</th>\n",
       "      <th>NSE</th>\n",
       "      <th>DiasMora</th>\n",
       "      <th>NombreTipoTarjeta</th>\n",
       "      <th>NombreSituacionCliente</th>\n",
       "      <th>meses_entre_consumos</th>\n",
       "      <th>...</th>\n",
       "      <th>trx_consum_h2m_h3m_SALUD</th>\n",
       "      <th>consumio_h4m_h5m_SALUD</th>\n",
       "      <th>monto_consum_h4m_h5m_SALUD</th>\n",
       "      <th>trx_consum_h4m_h5m_SALUD</th>\n",
       "      <th>ult_mes_consum_SALUD</th>\n",
       "      <th>meses_entre_consum_SALUD</th>\n",
       "      <th>PERIODO_PREDECIR</th>\n",
       "      <th>Periodo_en_temporada_consumo</th>\n",
       "      <th>consumio_um_SALUD</th>\n",
       "      <th>monto_consumio_um_SALUD</th>\n",
       "    </tr>\n",
       "  </thead>\n",
       "  <tbody>\n",
       "    <tr>\n",
       "      <th>0</th>\n",
       "      <td>f21ae1c6cb59a0c6dc57ceb7346a144a909c5249569ebb...</td>\n",
       "      <td>600.0</td>\n",
       "      <td>32.0</td>\n",
       "      <td>CALLAO</td>\n",
       "      <td>Dependiente</td>\n",
       "      <td>C</td>\n",
       "      <td>0.0</td>\n",
       "      <td>VISA CLASICA</td>\n",
       "      <td>NORMAL</td>\n",
       "      <td>0.0</td>\n",
       "      <td>...</td>\n",
       "      <td>2.0</td>\n",
       "      <td>1</td>\n",
       "      <td>118.75</td>\n",
       "      <td>2.0</td>\n",
       "      <td>0.0</td>\n",
       "      <td>3.000</td>\n",
       "      <td>202406</td>\n",
       "      <td>1</td>\n",
       "      <td>0</td>\n",
       "      <td>0.0</td>\n",
       "    </tr>\n",
       "    <tr>\n",
       "      <th>1</th>\n",
       "      <td>f03aa054dc5ac23f6b24d2a39b891674583bbf07a6225b...</td>\n",
       "      <td>1000.0</td>\n",
       "      <td>32.0</td>\n",
       "      <td>LIMA</td>\n",
       "      <td>Independiente</td>\n",
       "      <td>C</td>\n",
       "      <td>0.0</td>\n",
       "      <td>VISA CLASICA</td>\n",
       "      <td>NORMAL</td>\n",
       "      <td>0.0</td>\n",
       "      <td>...</td>\n",
       "      <td>1.0</td>\n",
       "      <td>1</td>\n",
       "      <td>45.90</td>\n",
       "      <td>1.0</td>\n",
       "      <td>2.0</td>\n",
       "      <td>20.000</td>\n",
       "      <td>202406</td>\n",
       "      <td>1</td>\n",
       "      <td>0</td>\n",
       "      <td>0.0</td>\n",
       "    </tr>\n",
       "    <tr>\n",
       "      <th>2</th>\n",
       "      <td>c732c74b94d39c977cc78388e4135343a6e779393c4dd4...</td>\n",
       "      <td>900.0</td>\n",
       "      <td>40.0</td>\n",
       "      <td>LIMA</td>\n",
       "      <td>Dependiente</td>\n",
       "      <td>C</td>\n",
       "      <td>0.0</td>\n",
       "      <td>VISA CLASICA</td>\n",
       "      <td>NORMAL</td>\n",
       "      <td>4.0</td>\n",
       "      <td>...</td>\n",
       "      <td>0.0</td>\n",
       "      <td>0</td>\n",
       "      <td>0.00</td>\n",
       "      <td>0.0</td>\n",
       "      <td>20.0</td>\n",
       "      <td>20.000</td>\n",
       "      <td>202406</td>\n",
       "      <td>1</td>\n",
       "      <td>0</td>\n",
       "      <td>0.0</td>\n",
       "    </tr>\n",
       "    <tr>\n",
       "      <th>3</th>\n",
       "      <td>69987976ccb482bf84da31c9acc4bb03ac73a6c82fe304...</td>\n",
       "      <td>18350.0</td>\n",
       "      <td>61.0</td>\n",
       "      <td>CALLAO</td>\n",
       "      <td>Dependiente</td>\n",
       "      <td>C</td>\n",
       "      <td>0.0</td>\n",
       "      <td>VISA PLATINUM</td>\n",
       "      <td>NORMAL</td>\n",
       "      <td>0.0</td>\n",
       "      <td>...</td>\n",
       "      <td>0.0</td>\n",
       "      <td>0</td>\n",
       "      <td>0.00</td>\n",
       "      <td>0.0</td>\n",
       "      <td>6.0</td>\n",
       "      <td>5.505</td>\n",
       "      <td>202406</td>\n",
       "      <td>1</td>\n",
       "      <td>0</td>\n",
       "      <td>0.0</td>\n",
       "    </tr>\n",
       "    <tr>\n",
       "      <th>4</th>\n",
       "      <td>e93c64cf4d4a48acb2cfae4eb85060f423159e3e8e573d...</td>\n",
       "      <td>5000.0</td>\n",
       "      <td>50.0</td>\n",
       "      <td>CALLAO</td>\n",
       "      <td>Dependiente</td>\n",
       "      <td>C</td>\n",
       "      <td>0.0</td>\n",
       "      <td>VISA CLASICA</td>\n",
       "      <td>NORMAL</td>\n",
       "      <td>1.0</td>\n",
       "      <td>...</td>\n",
       "      <td>0.0</td>\n",
       "      <td>0</td>\n",
       "      <td>0.00</td>\n",
       "      <td>0.0</td>\n",
       "      <td>20.0</td>\n",
       "      <td>20.000</td>\n",
       "      <td>202406</td>\n",
       "      <td>1</td>\n",
       "      <td>0</td>\n",
       "      <td>0.0</td>\n",
       "    </tr>\n",
       "  </tbody>\n",
       "</table>\n",
       "<p>5 rows × 25 columns</p>\n",
       "</div>"
      ],
      "text/plain": [
       "                                               LLAVE  LINEACREDITO  EDAD  \\\n",
       "0  f21ae1c6cb59a0c6dc57ceb7346a144a909c5249569ebb...         600.0  32.0   \n",
       "1  f03aa054dc5ac23f6b24d2a39b891674583bbf07a6225b...        1000.0  32.0   \n",
       "2  c732c74b94d39c977cc78388e4135343a6e779393c4dd4...         900.0  40.0   \n",
       "3  69987976ccb482bf84da31c9acc4bb03ac73a6c82fe304...       18350.0  61.0   \n",
       "4  e93c64cf4d4a48acb2cfae4eb85060f423159e3e8e573d...        5000.0  50.0   \n",
       "\n",
       "  DEPARTAMENTO_RENIEC SITUACIONLABORAL NSE  DiasMora NombreTipoTarjeta  \\\n",
       "0              CALLAO      Dependiente   C       0.0      VISA CLASICA   \n",
       "1                LIMA    Independiente   C       0.0      VISA CLASICA   \n",
       "2                LIMA      Dependiente   C       0.0      VISA CLASICA   \n",
       "3              CALLAO      Dependiente   C       0.0     VISA PLATINUM   \n",
       "4              CALLAO      Dependiente   C       0.0      VISA CLASICA   \n",
       "\n",
       "  NombreSituacionCliente  meses_entre_consumos  ...  trx_consum_h2m_h3m_SALUD  \\\n",
       "0                 NORMAL                   0.0  ...                       2.0   \n",
       "1                 NORMAL                   0.0  ...                       1.0   \n",
       "2                 NORMAL                   4.0  ...                       0.0   \n",
       "3                 NORMAL                   0.0  ...                       0.0   \n",
       "4                 NORMAL                   1.0  ...                       0.0   \n",
       "\n",
       "   consumio_h4m_h5m_SALUD  monto_consum_h4m_h5m_SALUD  \\\n",
       "0                       1                      118.75   \n",
       "1                       1                       45.90   \n",
       "2                       0                        0.00   \n",
       "3                       0                        0.00   \n",
       "4                       0                        0.00   \n",
       "\n",
       "   trx_consum_h4m_h5m_SALUD  ult_mes_consum_SALUD  meses_entre_consum_SALUD  \\\n",
       "0                       2.0                   0.0                     3.000   \n",
       "1                       1.0                   2.0                    20.000   \n",
       "2                       0.0                  20.0                    20.000   \n",
       "3                       0.0                   6.0                     5.505   \n",
       "4                       0.0                  20.0                    20.000   \n",
       "\n",
       "   PERIODO_PREDECIR  Periodo_en_temporada_consumo  consumio_um_SALUD  \\\n",
       "0            202406                             1                  0   \n",
       "1            202406                             1                  0   \n",
       "2            202406                             1                  0   \n",
       "3            202406                             1                  0   \n",
       "4            202406                             1                  0   \n",
       "\n",
       "   monto_consumio_um_SALUD  \n",
       "0                      0.0  \n",
       "1                      0.0  \n",
       "2                      0.0  \n",
       "3                      0.0  \n",
       "4                      0.0  \n",
       "\n",
       "[5 rows x 25 columns]"
      ]
     },
     "execution_count": 4,
     "metadata": {},
     "output_type": "execute_result"
    }
   ],
   "source": [
    "df_sql_resultados.head()"
   ]
  },
  {
   "cell_type": "code",
   "execution_count": null,
   "metadata": {},
   "outputs": [],
   "source": [
    "#CODIFICAR VARIABLES CATEGORICAS NOMINALES"
   ]
  },
  {
   "cell_type": "code",
   "execution_count": 5,
   "metadata": {},
   "outputs": [],
   "source": [
    "#Se guarda las columnas codificadas derivadas de las variables nominales\n",
    "df_one_hot=pd.get_dummies(df_sql_resultados[['DEPARTAMENTO_RENIEC','SITUACIONLABORAL','NombreSituacionCliente']]).astype(int)\n",
    "\n",
    "#Se eliminan las columnas que ya fueron codificadas\n",
    "df_sql_resultados=df_sql_resultados.drop('DEPARTAMENTO_RENIEC',axis=1)\n",
    "df_sql_resultados=df_sql_resultados.drop('SITUACIONLABORAL',axis=1)\n",
    "df_sql_resultados=df_sql_resultados.drop('NombreSituacionCliente',axis=1)\n",
    "\n",
    "#Se concatena la dataframe a evaluar con las columnas codificadas\n",
    "df_sql_resultados=pd.concat([df_sql_resultados,df_one_hot],axis=1)"
   ]
  },
  {
   "cell_type": "code",
   "execution_count": null,
   "metadata": {},
   "outputs": [],
   "source": [
    "#CODIFICAR VARIABLES CATEGORICAS ORDINALES"
   ]
  },
  {
   "cell_type": "code",
   "execution_count": 6,
   "metadata": {},
   "outputs": [],
   "source": [
    "#NSE\n",
    "jerarquia={'A':5,'B':4,'C':3,'D':2,'E':1}\n",
    "df_sql_resultados['NSE']=df_sql_resultados['NSE'].replace(jerarquia)\n",
    "\n",
    "#NombreTipoTarjeta\n",
    "jerarquia={'VISA SIGNATURE':3,'VISA PLATINUM':2,'VISA CLASICA':1}\n",
    "df_sql_resultados['NombreTipoTarjeta']=df_sql_resultados['NombreTipoTarjeta'].replace(jerarquia)"
   ]
  },
  {
   "cell_type": "code",
   "execution_count": null,
   "metadata": {},
   "outputs": [],
   "source": [
    "#ESCALAMIENTO DE VARIABLES NUMÉRICAS"
   ]
  },
  {
   "cell_type": "code",
   "execution_count": 7,
   "metadata": {},
   "outputs": [],
   "source": [
    "\n",
    "#ESTANDARIZAR VARIABLES CONTINUAS\n",
    "scaler=MinMaxScaler(feature_range=(0,1))\n",
    "\n",
    "#---------- LINEACREDITO ---------------------\n",
    "df_sql_resultados['LINEACREDITO']=scaler.fit_transform(df_sql_resultados[['LINEACREDITO']])\n",
    "\n",
    "#---------- EDAD ---------------------\n",
    "df_sql_resultados['EDAD']=scaler.fit_transform(df_sql_resultados[['EDAD']])\n",
    "\n",
    "#---------- NSE ---------------------\n",
    "df_sql_resultados['NSE']=scaler.fit_transform(df_sql_resultados[['NSE']])\n",
    "\n",
    "#---------- DiasMora ---------------------\n",
    "df_sql_resultados['DiasMora']=scaler.fit_transform(df_sql_resultados[['DiasMora']])\n",
    "\n",
    "#---------- NombreTipoTarjeta ---------------------\n",
    "df_sql_resultados['NombreTipoTarjeta']=scaler.fit_transform(df_sql_resultados[['NombreTipoTarjeta']])\n",
    "\n",
    "#---------- meses_entre_consumos ---------------------\n",
    "df_sql_resultados['meses_entre_consumos']=scaler.fit_transform(df_sql_resultados[['meses_entre_consumos']])\n",
    "\n",
    "#---------- monto_consum_h1m_SALUD ---------------------\n",
    "df_sql_resultados['monto_consum_h1m_SALUD']=scaler.fit_transform(df_sql_resultados[['monto_consum_h1m_SALUD']])\n",
    "\n",
    "#---------- trx_consum_h1m_SALUD ---------------------\n",
    "df_sql_resultados['trx_consum_h1m_SALUD']=scaler.fit_transform(df_sql_resultados[['trx_consum_h1m_SALUD']])\n",
    "\n",
    "#---------- monto_consum_h2m_h3m_SALUD ---------------------\n",
    "df_sql_resultados['monto_consum_h2m_h3m_SALUD']=scaler.fit_transform(df_sql_resultados[['monto_consum_h2m_h3m_SALUD']])\n",
    "\n",
    "#---------- trx_consum_h2m_h3m_SALUD ---------------------\n",
    "df_sql_resultados['trx_consum_h2m_h3m_SALUD']=scaler.fit_transform(df_sql_resultados[['trx_consum_h2m_h3m_SALUD']])\n",
    "\n",
    "#---------- monto_consum_h4m_h5m_SALUD ---------------------\n",
    "df_sql_resultados['monto_consum_h4m_h5m_SALUD']=scaler.fit_transform(df_sql_resultados[['monto_consum_h4m_h5m_SALUD']])\n",
    "\n",
    "#---------- trx_consum_h4m_h5m_SALUD ---------------------\n",
    "df_sql_resultados['trx_consum_h4m_h5m_SALUD']=scaler.fit_transform(df_sql_resultados[['trx_consum_h4m_h5m_SALUD']])\n",
    "\n",
    "#---------- ult_mes_consum_SALUD ---------------------\n",
    "df_sql_resultados['ult_mes_consum_SALUD']=scaler.fit_transform(df_sql_resultados[['ult_mes_consum_SALUD']])\n",
    "\n",
    "#---------- meses_entre_consum_SALUD ---------------------\n",
    "df_sql_resultados['meses_entre_consum_SALUD']=scaler.fit_transform(df_sql_resultados[['meses_entre_consum_SALUD']])\n"
   ]
  },
  {
   "cell_type": "code",
   "execution_count": 8,
   "metadata": {},
   "outputs": [
    {
     "data": {
      "text/html": [
       "<div>\n",
       "<style scoped>\n",
       "    .dataframe tbody tr th:only-of-type {\n",
       "        vertical-align: middle;\n",
       "    }\n",
       "\n",
       "    .dataframe tbody tr th {\n",
       "        vertical-align: top;\n",
       "    }\n",
       "\n",
       "    .dataframe thead th {\n",
       "        text-align: right;\n",
       "    }\n",
       "</style>\n",
       "<table border=\"1\" class=\"dataframe\">\n",
       "  <thead>\n",
       "    <tr style=\"text-align: right;\">\n",
       "      <th></th>\n",
       "      <th>LLAVE</th>\n",
       "      <th>LINEACREDITO</th>\n",
       "      <th>EDAD</th>\n",
       "      <th>NSE</th>\n",
       "      <th>DiasMora</th>\n",
       "      <th>NombreTipoTarjeta</th>\n",
       "      <th>meses_entre_consumos</th>\n",
       "      <th>consumio_h1m_SALUD</th>\n",
       "      <th>monto_consum_h1m_SALUD</th>\n",
       "      <th>trx_consum_h1m_SALUD</th>\n",
       "      <th>...</th>\n",
       "      <th>DEPARTAMENTO_RENIEC_TACNA</th>\n",
       "      <th>DEPARTAMENTO_RENIEC_TUMBES</th>\n",
       "      <th>DEPARTAMENTO_RENIEC_UCAYALI</th>\n",
       "      <th>SITUACIONLABORAL_Dependiente</th>\n",
       "      <th>SITUACIONLABORAL_Independiente</th>\n",
       "      <th>SITUACIONLABORAL_Pensionista</th>\n",
       "      <th>NombreSituacionCliente_CON TARJETA BLOQUEADA</th>\n",
       "      <th>NombreSituacionCliente_DEBE CANCELAR</th>\n",
       "      <th>NombreSituacionCliente_NORMAL</th>\n",
       "      <th>NombreSituacionCliente_NUEVO</th>\n",
       "    </tr>\n",
       "  </thead>\n",
       "  <tbody>\n",
       "    <tr>\n",
       "      <th>0</th>\n",
       "      <td>f21ae1c6cb59a0c6dc57ceb7346a144a909c5249569ebb...</td>\n",
       "      <td>0.016620</td>\n",
       "      <td>0.200000</td>\n",
       "      <td>0.5</td>\n",
       "      <td>0.0</td>\n",
       "      <td>0.0</td>\n",
       "      <td>0.00</td>\n",
       "      <td>1</td>\n",
       "      <td>0.051319</td>\n",
       "      <td>0.25</td>\n",
       "      <td>...</td>\n",
       "      <td>0</td>\n",
       "      <td>0</td>\n",
       "      <td>0</td>\n",
       "      <td>1</td>\n",
       "      <td>0</td>\n",
       "      <td>0</td>\n",
       "      <td>0</td>\n",
       "      <td>0</td>\n",
       "      <td>1</td>\n",
       "      <td>0</td>\n",
       "    </tr>\n",
       "    <tr>\n",
       "      <th>1</th>\n",
       "      <td>f03aa054dc5ac23f6b24d2a39b891674583bbf07a6225b...</td>\n",
       "      <td>0.038781</td>\n",
       "      <td>0.200000</td>\n",
       "      <td>0.5</td>\n",
       "      <td>0.0</td>\n",
       "      <td>0.0</td>\n",
       "      <td>0.00</td>\n",
       "      <td>0</td>\n",
       "      <td>0.000000</td>\n",
       "      <td>0.00</td>\n",
       "      <td>...</td>\n",
       "      <td>0</td>\n",
       "      <td>0</td>\n",
       "      <td>0</td>\n",
       "      <td>0</td>\n",
       "      <td>1</td>\n",
       "      <td>0</td>\n",
       "      <td>0</td>\n",
       "      <td>0</td>\n",
       "      <td>1</td>\n",
       "      <td>0</td>\n",
       "    </tr>\n",
       "    <tr>\n",
       "      <th>2</th>\n",
       "      <td>c732c74b94d39c977cc78388e4135343a6e779393c4dd4...</td>\n",
       "      <td>0.033241</td>\n",
       "      <td>0.333333</td>\n",
       "      <td>0.5</td>\n",
       "      <td>0.0</td>\n",
       "      <td>0.0</td>\n",
       "      <td>1.00</td>\n",
       "      <td>0</td>\n",
       "      <td>0.000000</td>\n",
       "      <td>0.00</td>\n",
       "      <td>...</td>\n",
       "      <td>0</td>\n",
       "      <td>0</td>\n",
       "      <td>0</td>\n",
       "      <td>1</td>\n",
       "      <td>0</td>\n",
       "      <td>0</td>\n",
       "      <td>0</td>\n",
       "      <td>0</td>\n",
       "      <td>1</td>\n",
       "      <td>0</td>\n",
       "    </tr>\n",
       "    <tr>\n",
       "      <th>3</th>\n",
       "      <td>69987976ccb482bf84da31c9acc4bb03ac73a6c82fe304...</td>\n",
       "      <td>1.000000</td>\n",
       "      <td>0.683333</td>\n",
       "      <td>0.5</td>\n",
       "      <td>0.0</td>\n",
       "      <td>0.5</td>\n",
       "      <td>0.00</td>\n",
       "      <td>0</td>\n",
       "      <td>0.000000</td>\n",
       "      <td>0.00</td>\n",
       "      <td>...</td>\n",
       "      <td>0</td>\n",
       "      <td>0</td>\n",
       "      <td>0</td>\n",
       "      <td>1</td>\n",
       "      <td>0</td>\n",
       "      <td>0</td>\n",
       "      <td>0</td>\n",
       "      <td>0</td>\n",
       "      <td>1</td>\n",
       "      <td>0</td>\n",
       "    </tr>\n",
       "    <tr>\n",
       "      <th>4</th>\n",
       "      <td>e93c64cf4d4a48acb2cfae4eb85060f423159e3e8e573d...</td>\n",
       "      <td>0.260388</td>\n",
       "      <td>0.500000</td>\n",
       "      <td>0.5</td>\n",
       "      <td>0.0</td>\n",
       "      <td>0.0</td>\n",
       "      <td>0.25</td>\n",
       "      <td>0</td>\n",
       "      <td>0.000000</td>\n",
       "      <td>0.00</td>\n",
       "      <td>...</td>\n",
       "      <td>0</td>\n",
       "      <td>0</td>\n",
       "      <td>0</td>\n",
       "      <td>1</td>\n",
       "      <td>0</td>\n",
       "      <td>0</td>\n",
       "      <td>0</td>\n",
       "      <td>0</td>\n",
       "      <td>1</td>\n",
       "      <td>0</td>\n",
       "    </tr>\n",
       "  </tbody>\n",
       "</table>\n",
       "<p>5 rows × 54 columns</p>\n",
       "</div>"
      ],
      "text/plain": [
       "                                               LLAVE  LINEACREDITO      EDAD  \\\n",
       "0  f21ae1c6cb59a0c6dc57ceb7346a144a909c5249569ebb...      0.016620  0.200000   \n",
       "1  f03aa054dc5ac23f6b24d2a39b891674583bbf07a6225b...      0.038781  0.200000   \n",
       "2  c732c74b94d39c977cc78388e4135343a6e779393c4dd4...      0.033241  0.333333   \n",
       "3  69987976ccb482bf84da31c9acc4bb03ac73a6c82fe304...      1.000000  0.683333   \n",
       "4  e93c64cf4d4a48acb2cfae4eb85060f423159e3e8e573d...      0.260388  0.500000   \n",
       "\n",
       "   NSE  DiasMora  NombreTipoTarjeta  meses_entre_consumos  consumio_h1m_SALUD  \\\n",
       "0  0.5       0.0                0.0                  0.00                   1   \n",
       "1  0.5       0.0                0.0                  0.00                   0   \n",
       "2  0.5       0.0                0.0                  1.00                   0   \n",
       "3  0.5       0.0                0.5                  0.00                   0   \n",
       "4  0.5       0.0                0.0                  0.25                   0   \n",
       "\n",
       "   monto_consum_h1m_SALUD  trx_consum_h1m_SALUD  ...  \\\n",
       "0                0.051319                  0.25  ...   \n",
       "1                0.000000                  0.00  ...   \n",
       "2                0.000000                  0.00  ...   \n",
       "3                0.000000                  0.00  ...   \n",
       "4                0.000000                  0.00  ...   \n",
       "\n",
       "   DEPARTAMENTO_RENIEC_TACNA  DEPARTAMENTO_RENIEC_TUMBES  \\\n",
       "0                          0                           0   \n",
       "1                          0                           0   \n",
       "2                          0                           0   \n",
       "3                          0                           0   \n",
       "4                          0                           0   \n",
       "\n",
       "   DEPARTAMENTO_RENIEC_UCAYALI  SITUACIONLABORAL_Dependiente  \\\n",
       "0                            0                             1   \n",
       "1                            0                             0   \n",
       "2                            0                             1   \n",
       "3                            0                             1   \n",
       "4                            0                             1   \n",
       "\n",
       "   SITUACIONLABORAL_Independiente  SITUACIONLABORAL_Pensionista  \\\n",
       "0                               0                             0   \n",
       "1                               1                             0   \n",
       "2                               0                             0   \n",
       "3                               0                             0   \n",
       "4                               0                             0   \n",
       "\n",
       "   NombreSituacionCliente_CON TARJETA BLOQUEADA  \\\n",
       "0                                             0   \n",
       "1                                             0   \n",
       "2                                             0   \n",
       "3                                             0   \n",
       "4                                             0   \n",
       "\n",
       "   NombreSituacionCliente_DEBE CANCELAR NombreSituacionCliente_NORMAL  \\\n",
       "0                                     0                             1   \n",
       "1                                     0                             1   \n",
       "2                                     0                             1   \n",
       "3                                     0                             1   \n",
       "4                                     0                             1   \n",
       "\n",
       "   NombreSituacionCliente_NUEVO  \n",
       "0                             0  \n",
       "1                             0  \n",
       "2                             0  \n",
       "3                             0  \n",
       "4                             0  \n",
       "\n",
       "[5 rows x 54 columns]"
      ]
     },
     "execution_count": 8,
     "metadata": {},
     "output_type": "execute_result"
    }
   ],
   "source": [
    "df_sql_resultados.head()"
   ]
  },
  {
   "cell_type": "code",
   "execution_count": null,
   "metadata": {},
   "outputs": [],
   "source": [
    "#OBTENCION DE DATA DE ENTRENAMIENTO Y TEST\n",
    "\n"
   ]
  },
  {
   "cell_type": "code",
   "execution_count": 9,
   "metadata": {},
   "outputs": [],
   "source": [
    "df_provisional=df_sql_resultados\n",
    "df_provisional=df_provisional.drop('LLAVE',axis=1)\n",
    "df_provisional=df_provisional.drop('PERIODO_PREDECIR',axis=1)\n",
    "df_provisional=df_provisional.drop('consumio_um_SALUD',axis=1)\n",
    "df_provisional=df_provisional.drop('monto_consumio_um_SALUD',axis=1)\n",
    "\n",
    "#Se selecciona las variables predictoras y la variable a predecir\n",
    "x_flg_salud=df_provisional\n",
    "y_flg_salud= df_sql_resultados['consumio_um_SALUD']"
   ]
  },
  {
   "cell_type": "code",
   "execution_count": 10,
   "metadata": {},
   "outputs": [
    {
     "data": {
      "text/plain": [
       "((1402307, 50), (600989, 50))"
      ]
     },
     "execution_count": 10,
     "metadata": {},
     "output_type": "execute_result"
    }
   ],
   "source": [
    "#Se destina el 30% para test y el 70% para entrenamiento\n",
    "\n",
    "x_flg_salud_train, x_flg_salud_test, y_flg_salud_train, y_flg_salud_test = train_test_split(x_flg_salud, y_flg_salud, test_size = 0.30, random_state = 42)\n",
    "x_flg_salud_train.shape, x_flg_salud_test.shape"
   ]
  },
  {
   "cell_type": "code",
   "execution_count": null,
   "metadata": {},
   "outputs": [],
   "source": [
    "#BALANCEO DE DATOS"
   ]
  },
  {
   "cell_type": "code",
   "execution_count": 11,
   "metadata": {},
   "outputs": [
    {
     "data": {
      "image/png": "[encoded data removed]",
      "text/plain": [
       "<Figure size 300x300 with 1 Axes>"
      ]
     },
     "metadata": {},
     "output_type": "display_data"
    }
   ],
   "source": [
    "#-------- IDENTIFICAR SI SE REQUIERE O NO DE BALANCEO DE DATOS\n",
    "\n",
    "conteo=df_sql_resultados['consumio_um_SALUD'].value_counts()/1000\n",
    "\n",
    "plt.figure(figsize=(3,3))\n",
    "conteo.plot(kind='bar',color='skyblue')\n",
    "plt.title('Consumirá o no en el rubro salud en el periodo a evaluar')\n",
    "plt.xlabel('consumio_um_SALUD')\n",
    "plt.ylabel('Cantidad (en miles)')\n",
    "plt.xticks(rotation=0)\n",
    "plt.show()"
   ]
  },
  {
   "cell_type": "code",
   "execution_count": 12,
   "metadata": {},
   "outputs": [],
   "source": [
    "#BALANCEO DE DATOS\n",
    "\n",
    "sm = SMOTE(random_state=42)\n",
    "\n",
    "#=============  SALUD ===============================\n",
    "x_flg_salud_train, y_flg_salud_train = sm.fit_resample(x_flg_salud_train, y_flg_salud_train)\n",
    "\n"
   ]
  },
  {
   "cell_type": "code",
   "execution_count": 13,
   "metadata": {},
   "outputs": [
    {
     "data": {
      "image/png": "[encoded data removed]",
      "text/plain": [
       "<Figure size 300x300 with 1 Axes>"
      ]
     },
     "metadata": {},
     "output_type": "display_data"
    }
   ],
   "source": [
    "conteo=y_flg_salud_train.value_counts()/1000\n",
    "\n",
    "plt.figure(figsize=(3,3))\n",
    "conteo.plot(kind='bar',color='skyblue')\n",
    "plt.title('Consumirá o no en el rubro salud en el periodo a evaluar')\n",
    "plt.xlabel('consumio_um_SALUD')\n",
    "plt.ylabel('Cantidad (en miles)')\n",
    "plt.xticks(rotation=0)\n",
    "plt.show()"
   ]
  },
  {
   "cell_type": "code",
   "execution_count": null,
   "metadata": {},
   "outputs": [],
   "source": [
    "from sklearn.metrics import precision_score,recall_score\n",
    "from sklearn.tree import DecisionTreeClassifier\n",
    "from sklearn.naive_bayes import GaussianNB\n",
    "from sklearn.linear_model import LogisticRegression\n",
    "from sklearn.neighbors import KNeighborsClassifier\n",
    "from sklearn.svm import SVC\n",
    "\n",
    "#MODELO RANDOMFOREST \n",
    "\n",
    "ML_randomforest = RandomForestClassifier(n_estimators=200, max_depth= 10,min_samples_split=5,min_samples_leaf= 2,max_features='sqrt',random_state=0)\n",
    "ML_randomforest.fit(x_flg_salud_train, y_flg_salud_train)\n",
    "y_flg_salud_PREDICT_random_forest = ML_randomforest.predict(x_flg_salud_test)\n",
    "\n",
    "#MODELO GRADIENT BOOSTING \n",
    "\n",
    "ML_g_boosting = GradientBoostingClassifier(n_estimators=200, max_depth= 10,min_samples_split=5,min_samples_leaf= 2,max_features='sqrt',random_state=0)\n",
    "ML_g_boosting.fit(x_flg_salud_train, y_flg_salud_train)\n",
    "y_flg_salud_PREDICT_g_boosting = ML_g_boosting.predict(x_flg_salud_test)\n",
    "\n",
    "#ARBOL DE DECISION \n",
    "\n",
    "ML_treeClassifier = DecisionTreeClassifier( max_depth= 10,min_samples_split=5,min_samples_leaf= 2,max_features='sqrt',random_state=0)\n",
    "ML_treeClassifier.fit(x_flg_salud_train, y_flg_salud_train)\n",
    "y_flg_salud_PREDICT_treeClassifier = ML_treeClassifier.predict(x_flg_salud_test)\n",
    "\n",
    "#NAIVE BAYES\n",
    "\n",
    "ML_naive_bayes = GaussianNB()\n",
    "ML_naive_bayes.fit(x_flg_salud_train, y_flg_salud_train)\n",
    "y_flg_salud_PREDICT_naive_bayes = ML_naive_bayes.predict(x_flg_salud_test)\n",
    "\n",
    "#REGRESION LOGISTICA \n",
    "\n",
    "ML_regresion_logistica = LogisticRegression(random_state=0)\n",
    "ML_regresion_logistica.fit(x_flg_salud_train, y_flg_salud_train)\n",
    "y_flg_salud_PREDICT_regresion_logistica = ML_regresion_logistica.predict(x_flg_salud_test)\n",
    "\n",
    "#MODELO KNN \n",
    "\n",
    "ML_knn = KNeighborsClassifier(n_neighbors=5)\n",
    "ML_knn.fit(x_flg_salud_train, y_flg_salud_train)\n",
    "y_flg_salud_PREDICT_KNN = ML_knn.predict(x_flg_salud_test)\n"
   ]
  },
  {
   "cell_type": "code",
   "execution_count": null,
   "metadata": {},
   "outputs": [
    {
     "data": {
      "text/plain": [
       "['C:/Users/xvillanuevam/Desktop/TRASPASO PRACTICANTE/QUERYS VARIOS/ML/MODELOS ENTRENADOS/ML_knn.pkl']"
      ]
     },
     "execution_count": 15,
     "metadata": {},
     "output_type": "execute_result"
    }
   ],
   "source": [
    "#GUARDAMOS MODELOS\n",
    "\"\"\"\n",
    "joblib.dump(ML_randomforest,'C:/Users/xvillanuevam/Desktop/TRASPASO PRACTICANTE/QUERYS VARIOS/ML/MODELOS ENTRENADOS/ML_randomforest.pkl')\n",
    "joblib.dump(ML_g_boosting, 'C:/Users/xvillanuevam/Desktop/TRASPASO PRACTICANTE/QUERYS VARIOS/ML/MODELOS ENTRENADOS/ML_g_boosting.pkl')\n",
    "joblib.dump(ML_treeClassifier,'C:/Users/xvillanuevam/Desktop/TRASPASO PRACTICANTE/QUERYS VARIOS/ML/MODELOS ENTRENADOS/ML_treeClassifier.pkl')\n",
    "joblib.dump(ML_naive_bayes, 'C:/Users/xvillanuevam/Desktop/TRASPASO PRACTICANTE/QUERYS VARIOS/ML/MODELOS ENTRENADOS/ML_naive_bayes.pkl')\n",
    "joblib.dump(ML_regresion_logistica, 'C:/Users/xvillanuevam/Desktop/TRASPASO PRACTICANTE/QUERYS VARIOS/ML/MODELOS ENTRENADOS/ML_regresion_logistica.pkl')\n",
    "joblib.dump(ML_knn, 'C:/Users/xvillanuevam/Desktop/TRASPASO PRACTICANTE/QUERYS VARIOS/ML/MODELOS ENTRENADOS/ML_knn.pkl')\n",
    "\"\"\""
   ]
  },
  {
   "cell_type": "code",
   "execution_count": 14,
   "metadata": {},
   "outputs": [],
   "source": [
    "#Se carga modelos\n",
    "\n",
    "ML_randomforest=joblib.load('C:/Users/xvillanuevam/Desktop/TRASPASO PRACTICANTE/QUERYS VARIOS/ML/MODELOS ENTRENADOS/ML_randomforest.pkl')\n",
    "ML_g_boosting=joblib.load('C:/Users/xvillanuevam/Desktop/TRASPASO PRACTICANTE/QUERYS VARIOS/ML/MODELOS ENTRENADOS/ML_g_boosting.pkl')\n",
    "ML_treeClassifier=joblib.load('C:/Users/xvillanuevam/Desktop/TRASPASO PRACTICANTE/QUERYS VARIOS/ML/MODELOS ENTRENADOS/ML_treeClassifier.pkl')\n",
    "ML_naive_bayes=joblib.load( 'C:/Users/xvillanuevam/Desktop/TRASPASO PRACTICANTE/QUERYS VARIOS/ML/MODELOS ENTRENADOS/ML_naive_bayes.pkl')\n",
    "ML_regresion_logistica=joblib.load('C:/Users/xvillanuevam/Desktop/TRASPASO PRACTICANTE/QUERYS VARIOS/ML/MODELOS ENTRENADOS/ML_regresion_logistica.pkl')\n",
    "ML_knn=joblib.load('C:/Users/xvillanuevam/Desktop/TRASPASO PRACTICANTE/QUERYS VARIOS/ML/MODELOS ENTRENADOS/ML_knn.pkl')\n",
    "\n"
   ]
  },
  {
   "cell_type": "code",
   "execution_count": 30,
   "metadata": {},
   "outputs": [],
   "source": [
    "def metricas(models,x_flg_salud_test,y_flg_salud_test): # precision, sensibilidad, especificidad, F1\n",
    "    \n",
    "    # Almacenar las métricas\n",
    "    results = []\n",
    " \n",
    "    for name, model in models.items():\n",
    "        # Predicciones\n",
    "        y_pred = model.predict(x_flg_salud_test)\n",
    "\n",
    "        # Calcular métrica\n",
    "        calculo_exactitud = accuracy_score(y_flg_salud_test, y_pred)\n",
    "        \n",
    "        calculo_precision = precision_score(y_flg_salud_test, y_pred)\n",
    "\n",
    "        calculo_sensibilidad = recall_score(y_flg_salud_test, y_pred)\n",
    "\n",
    "        vn,fp,fn,vp=confusion_matrix(y_flg_salud_test,y_pred).ravel()\n",
    "        calculo_especificidad = vn/(vn+fp)\n",
    "\n",
    "        calculo_f1 = f1_score(y_flg_salud_test, y_pred)\n",
    "\n",
    "        #Se guarda resultados\n",
    "        results.append([name,calculo_exactitud,calculo_precision,calculo_sensibilidad,calculo_especificidad,calculo_f1])\n",
    "    \n",
    "    metrics_df = pd.DataFrame(results, columns=[\"Modelo\",\"Exactitud\",\"Precision\",\"Sensibilidad\",\"Especificidad\",\"F1 - score\"])\n",
    "    return metrics_df"
   ]
  },
  {
   "cell_type": "code",
   "execution_count": 31,
   "metadata": {},
   "outputs": [],
   "source": [
    "\n",
    "# Definir los modelos\n",
    "models = {\n",
    "    \"Random Forest\": ML_randomforest,\n",
    "    \"Gradient Boosting\": ML_g_boosting,\n",
    "    \"Tree Classifier\": ML_treeClassifier,\n",
    "    \"Naive Bayes\":ML_naive_bayes,\n",
    "    \"Regresión logística\":ML_regresion_logistica,\n",
    "}\n",
    " \n",
    "result_metricas=metricas(models,x_flg_salud_test,y_flg_salud_test)"
   ]
  },
  {
   "cell_type": "code",
   "execution_count": 32,
   "metadata": {},
   "outputs": [
    {
     "name": "stdout",
     "output_type": "stream",
     "text": [
      "             Modelo  Exactitud\n",
      "      Random Forest   0.923566\n",
      "  Gradient Boosting   0.942029\n",
      "    Tree Classifier   0.909073\n",
      "        Naive Bayes   0.846714\n",
      "Regresión logística   0.922766\n"
     ]
    }
   ],
   "source": [
    "#EXACTITUD\n",
    "print(result_metricas[[\"Modelo\",\"Exactitud\"]].to_string(index=False))"
   ]
  },
  {
   "cell_type": "code",
   "execution_count": 34,
   "metadata": {},
   "outputs": [
    {
     "name": "stdout",
     "output_type": "stream",
     "text": [
      "             Modelo  Precision\n",
      "      Random Forest   0.583333\n",
      "  Gradient Boosting   0.663160\n",
      "    Tree Classifier   0.541824\n",
      "        Naive Bayes   0.408554\n",
      "Regresión logística   0.581689\n"
     ]
    }
   ],
   "source": [
    "#PRECISION\n",
    "print(result_metricas[[\"Modelo\",\"Precision\"]].to_string(index=False))"
   ]
  },
  {
   "cell_type": "code",
   "execution_count": null,
   "metadata": {},
   "outputs": [
    {
     "name": "stdout",
     "output_type": "stream",
     "text": [
      "             Modelo  Sensibilidad\n",
      "      Random Forest      0.998553\n",
      "  Gradient Boosting      0.930640\n",
      "    Tree Classifier      0.970205\n",
      "        Naive Bayes      0.967949\n",
      "Regresión logística      0.989125\n"
     ]
    }
   ],
   "source": [
    "#SENSIBILIDAD\n",
    "print(result_metricas[[\"Modelo\",\"Sensibilidad\"]].to_string(index=False))"
   ]
  },
  {
   "cell_type": "code",
   "execution_count": 27,
   "metadata": {},
   "outputs": [
    {
     "name": "stdout",
     "output_type": "stream",
     "text": [
      "             Modelo  Especificidad\n",
      "      Random Forest       0.914586\n",
      "  Gradient Boosting       0.943393\n",
      "    Tree Classifier       0.901753\n",
      "        Naive Bayes       0.832196\n",
      "Regresión logística       0.914819\n"
     ]
    }
   ],
   "source": [
    "#ESPECIFICIDAD\n",
    "print(result_metricas[[\"Modelo\",\"Especificidad\"]].to_string(index=False))"
   ]
  },
  {
   "cell_type": "code",
   "execution_count": 28,
   "metadata": {},
   "outputs": [
    {
     "name": "stdout",
     "output_type": "stream",
     "text": [
      "             Modelo  F1 - score\n",
      "      Random Forest    0.736448\n",
      "  Gradient Boosting    0.774455\n",
      "    Tree Classifier    0.695331\n",
      "        Naive Bayes    0.574586\n",
      "Regresión logística    0.732567\n"
     ]
    }
   ],
   "source": [
    "#F1\n",
    "print(result_metricas[[\"Modelo\",\"F1 - score\"]].to_string(index=False))"
   ]
  },
  {
   "cell_type": "code",
   "execution_count": 42,
   "metadata": {},
   "outputs": [
    {
     "data": {
      "image/png": "[encoded data removed]",
      "text/plain": [
       "<Figure size 800x600 with 1 Axes>"
      ]
     },
     "metadata": {},
     "output_type": "display_data"
    }
   ],
   "source": [
    "import numpy as np\n",
    "import matplotlib.pyplot as plt\n",
    "from sklearn.datasets import make_classification\n",
    "from sklearn.model_selection import train_test_split\n",
    "from sklearn.metrics import roc_curve, auc\n",
    "from sklearn.linear_model import LogisticRegression\n",
    "from sklearn.ensemble import RandomForestClassifier\n",
    "from sklearn.svm import SVC\n",
    "from sklearn.neighbors import KNeighborsClassifier\n",
    "from xgboost import XGBClassifier\n",
    " \n",
    " # Definir los modelos\n",
    "models = {\n",
    "    \"Random Forest\": ML_randomforest,\n",
    "    \"Gradient Boosting\": ML_g_boosting,\n",
    "    \"Tree Classifier\": ML_treeClassifier,\n",
    "    \"Naive Bayes\":ML_naive_bayes,\n",
    "    \"Regresión logística\":ML_regresion_logistica,\n",
    "}\n",
    "# Preparar la gráfica\n",
    "plt.figure(figsize=(8, 6))\n",
    "# Entrenar modelos y calcular curvas ROC\n",
    "for name, model in models.items():\n",
    "    # Obtener las probabilidades de predicción\n",
    "    y_proba = model.predict_proba(x_flg_salud_test)[:, 1]\n",
    "    # Calcular la curva ROC\n",
    "    fpr, tpr, _ = roc_curve(y_flg_salud_test, y_proba)\n",
    "    roc_auc = auc(fpr, tpr)\n",
    "    # Dibujar la curva\n",
    "    plt.plot(fpr, tpr, label=f\"{name} (AUC = {roc_auc:.6f})\")\n",
    " \n",
    "# Configurar la gráfica\n",
    "plt.plot([0, 1], [0, 1], color=\"gray\", linestyle=\"--\")  # Línea base\n",
    "plt.title(\"Curvas ROC de los Modelos\", fontsize=16)\n",
    "plt.xlabel(\"Tasa de Falsos Positivos (FPR)\", fontsize=14)\n",
    "plt.ylabel(\"Tasa de Verdaderos Positivos (TPR)\", fontsize=14)\n",
    "plt.legend(loc=\"lower right\", fontsize=12)\n",
    "plt.grid()\n",
    "plt.show()"
   ]
  },
  {
   "cell_type": "code",
   "execution_count": 62,
   "metadata": {},
   "outputs": [
    {
     "name": "stdout",
     "output_type": "stream",
     "text": [
      "scores por fold: [0.83639306 0.83823221 0.83721343]\n",
      "accuracy promedio: 0.837279568509532\n"
     ]
    }
   ],
   "source": [
    "# Aplicación de validación cruzada para la evaluación del modelo\n",
    "from sklearn.model_selection import cross_val_score\n",
    "\n",
    "scores=cross_val_score(rfc_supermaket,x1,y1,cv=3,scoring='accuracy')\n",
    "\n",
    "print(f\"scores por fold: {scores}\")\n",
    "print(f\"accuracy promedio: {scores.mean()}\")"
   ]
  },
  {
   "cell_type": "code",
   "execution_count": 28,
   "metadata": {},
   "outputs": [],
   "source": []
  }
 ],
 "metadata": {
  "kernelspec": {
   "display_name": "Python 3",
   "language": "python",
   "name": "python3"
  },
  "language_info": {
   "codemirror_mode": {
    "name": "ipython",
    "version": 3
   },
   "file_extension": ".py",
   "mimetype": "text/x-python",
   "name": "python",
   "nbconvert_exporter": "python",
   "pygments_lexer": "ipython3",
   "version": "3.12.2"
  }
 },
 "nbformat": 4,
 "nbformat_minor": 2
}
